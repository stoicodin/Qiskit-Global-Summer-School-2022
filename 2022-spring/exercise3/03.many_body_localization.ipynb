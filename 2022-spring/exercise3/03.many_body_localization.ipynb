{
 "cells": [
  {
   "cell_type": "code",
   "execution_count": 34,
   "id": "7152f2bf-5b38-470a-a523-6398a51c2c16",
   "metadata": {},
   "outputs": [],
   "source": [
    "import numpy as np\n",
    "import matplotlib.pyplot as plt\n",
    "\n",
    "# Importing standard Qiskit libraries\n",
    "from qiskit import QuantumCircuit, QuantumRegister, transpile, Aer, IBMQ, execute\n",
    "from qiskit.tools.jupyter import *\n",
    "from qiskit.visualization import *\n",
    "from qiskit.providers.aer import QasmSimulator\n",
    "from tqdm.notebook import tqdm\n",
    "\n",
    "from qiskit.providers.aer import QasmSimulator\n",
    "from qiskit.tools.monitor import job_monitor\n",
    "from qiskit.circuit import Parameter\n",
    "import qiskit.quantum_info as qi\n",
    "\n",
    "from qc_grader.challenges.spring_2022.helpers import generate_disordered_tb_instruction\n",
    "\n",
    "# Suppress warnings\n",
    "import warnings\n",
    "warnings.filterwarnings('ignore')"
   ]
  },
  {
   "cell_type": "markdown",
   "id": "fe9e4c6f",
   "metadata": {},
   "source": [
    "## Many-body quantum dynamics\n",
    "\n",
    "In this exercise we examine lattice disorder and particle-particle interaction. A closed quantum many-body system initialized in a non-equilibrium will reach the equilibrium state, refered to as thermalization, under its own dynamics. This behavior is as a result of the laws of statistical mechanics, and analogous to a hot cup of coffee cooling down to the surronding tempreture if left unattended. \n",
    "\n",
    "However, the presence of lattice disorder prevents the system from evolving into an egodic thermalized state. This interplay between disorder and particle interaction results in many-body localization (MBL), and it allows the system to retain a memory of its initial condition at all times. For more information about MBL refer to [1]\n",
    "\n",
    "Let's again consider the tight-binding Hamiltonian with arbitrary site energies:\n",
    "\n",
    "$$H_{\\rm tb}/\\hbar = \\sum^{3}_{i=0} (X_i X_{i+1} + Y_i Y_{i+1}) + \\sum_i \\epsilon_i Z_i $$\n",
    "\n",
    "As we explored in exercise 2, we can emulate disorder in this system by setting $\\epsilon_i=W \\rm{cos}(2\\pi\\beta i)$, where $W$ is the disorder strength, and $\\beta$ determines the quasicrystal periodicity. We can add multiple particles to the system by initalizing multiple qubits to the $|1\\rangle$ state prior to the unitary time evolution. Under $H_{\\rm tb}$, each site can only be occupied by a single particle, resulting in particle repulsion interaction.\n",
    "\n",
    "[1] https://arxiv.org/abs/1804.11065"
   ]
  },
  {
   "cell_type": "markdown",
   "id": "324e267a",
   "metadata": {},
   "source": [
    "One of the signatures of the breakdown of thermalization is the emergence of **imbalance**. In a thermalized system, we expect each site of the lattice to be occupied by the same average number of particles after reaching steady state. However, adding disorder to the interacting system will result in deviations from the thermal value observed on each site. The system imbalance can be quantified using the following expression:\n",
    "\n",
    "$$\\mathcal{I}= \\langle (N_e-N_o)/(N_e+N_o) \\rangle$$\n",
    "\n",
    "where $N_e$ and $N_o$ are the even and odd site populations of the system. For a thermalized system this $\\mathcal{I}=0$, and system disorder will cause deviations from this value."
   ]
  },
  {
   "cell_type": "markdown",
   "id": "bfe79af8",
   "metadata": {},
   "source": [
    "<div class=\"alert alert-block alert-danger\">\n",
    "    \n",
    "<b>Challenge question 3a</b> \n",
    "\n",
    "Write a function that outputs the imbalance of a quantum state\n",
    "    \n",
    "</div>"
   ]
  },
  {
   "cell_type": "code",
   "execution_count": 35,
   "id": "3f428318",
   "metadata": {},
   "outputs": [],
   "source": [
    "def get_imbalance(state):\n",
    "    ###EDIT CODE BELOW\n",
    "    ### HINT: MAKE SURE TO SKIP CALCULATING IMBALANCE OF THE |00...0> STATE\n",
    "    imbalance_val=0\n",
    "    \n",
    "    a=state.probabilities_dict()\n",
    "    \n",
    "    I_overall=0\n",
    "    for key in a:\n",
    "        n_e=0\n",
    "        n_o=0\n",
    "        for i, v in enumerate(key):\n",
    "            if v=='1':\n",
    "                if i%2==0:\n",
    "                    n_e+=1\n",
    "                else:\n",
    "                    n_o+=1\n",
    "        if n_e==0 and n_o==0:\n",
    "            I=0\n",
    "        else:\n",
    "            I=(n_e-n_o)/(n_e+n_o)\n",
    "        I_overall+=a[key]*I\n",
    "    imbalance_val=I_overall\n",
    "    \n",
    "\n",
    "    ###DO NOT EDIT BELOW\n",
    "    \n",
    "    return imbalance_val"
   ]
  },
  {
   "cell_type": "code",
   "execution_count": 36,
   "id": "5f6fdd44",
   "metadata": {},
   "outputs": [
    {
     "name": "stdout",
     "output_type": "stream",
     "text": [
      "Submitting your answer. Please wait...\n",
      "Congratulations 🎉! Your answer is correct and has been submitted.\n"
     ]
    }
   ],
   "source": [
    "## Grade and submit your solution\n",
    "\n",
    "\n",
    "from qc_grader.challenges.spring_2022 import grade_ex3a\n",
    "\n",
    "grade_ex3a(get_imbalance) \n"
   ]
  },
  {
   "cell_type": "markdown",
   "id": "276339f9",
   "metadata": {},
   "source": [
    "Next, we consider how quantum information and entanglement entropy grows in the system. In an entangled system, ignoring information about the remaining system puts the subsystem into a mixed state of different number states. We can probe the **von Neumann entropy** to gain insight into the degree of entanglement between subsystem $A$ and the remaining of the system:\n",
    "\n",
    "$$\\mathcal{S}_{\\rm vn}(\\rho_A)= -\\rm{tr}(\\rho_A \\rm{ln} \\rho_A)$$\n",
    "\n",
    "Here, $\\rho_A= \\rm{tr}_{\\bar{A}} \\rho$ is the reduced density matrix describing subsytem $A$ when we trace out the rest of the system. If a subsytem $A$ is fully entangled with the rest of the system, $\\mathcal{S}_{\\rm vn}(\\rho_A) = \\rm{ln}2$, whereas if the subsytem is completely separable (in a product state) with respect to its environment $\\mathcal{S}_{\\rm vn}(\\rho_A)=0$. Consider the example below:"
   ]
  },
  {
   "cell_type": "code",
   "execution_count": 37,
   "id": "b0e069e1",
   "metadata": {},
   "outputs": [
    {
     "name": "stdout",
     "output_type": "stream",
     "text": [
      "QB0 vn entropy:  0.6931471805599454\n",
      "QB1 vn entropy:  0.6931471805599454\n"
     ]
    }
   ],
   "source": [
    "bell_state = qi.Statevector(np.array([0,1,1,0])/np.sqrt(2))\n",
    "\n",
    "rho_0 = qi.partial_trace(bell_state,[1]) # We trace out qubit 1\n",
    "rho_1 = qi.partial_trace(bell_state,[0]) # We trace out qubit 0\n",
    "\n",
    "print('QB0 vn entropy: ', qi.entropy(rho_0, base=np.exp(1)))\n",
    "print('QB1 vn entropy: ', qi.entropy(rho_1, base=np.exp(1)))"
   ]
  },
  {
   "cell_type": "markdown",
   "id": "a80d1c7f",
   "metadata": {},
   "source": [
    "## Probing the many-body quantum dynamics in a 12 qubit chain\n",
    "\n",
    "For this part of the exercise, we use the same lattice disorder pattern as we explored in exercise 2."
   ]
  },
  {
   "cell_type": "code",
   "execution_count": 38,
   "id": "6d790e43-7e59-40b3-9a3a-806e7df15b70",
   "metadata": {},
   "outputs": [],
   "source": [
    "t = Parameter('t')"
   ]
  },
  {
   "cell_type": "code",
   "execution_count": 39,
   "id": "0ab29437",
   "metadata": {},
   "outputs": [],
   "source": [
    "num_qubits=12\n",
    "deltas=[Parameter('delta_{:d}'.format(idx)) for idx in range(num_qubits)]\n",
    "disorder_trot_step=generate_disordered_tb_instruction(t, deltas, num_qubits)"
   ]
  },
  {
   "cell_type": "code",
   "execution_count": 40,
   "id": "e1ae8b4e",
   "metadata": {},
   "outputs": [],
   "source": [
    "# Here we define the disorder pattern\n",
    "\n",
    "beta=(np.sqrt(5)-1)/2 # DO NOT EDIT\n",
    "AA_pattern=np.cos(2*np.pi*beta*np.arange(num_qubits)) # DO NOT EDIT"
   ]
  },
  {
   "cell_type": "markdown",
   "id": "73f306b7",
   "metadata": {},
   "source": [
    "<div class=\"alert alert-block alert-danger\">\n",
    "    \n",
    "<b>Challenge question 3b</b> \n",
    "\n",
    "Initialize the system by setting qubits 0, 4, and 8 to $|1\\rangle$.\n",
    "    \n",
    "</div>"
   ]
  },
  {
   "cell_type": "code",
   "execution_count": 41,
   "id": "1941aa83",
   "metadata": {},
   "outputs": [],
   "source": [
    "delta_t=0.1\n",
    "time_steps=np.arange(0,21,2)\n",
    "\n",
    "circuits={}\n",
    "Ws=[1,4,10]\n",
    "\n",
    "for W in Ws:\n",
    "    disorders=W*AA_pattern\n",
    "    \n",
    "    circuits[W]=[]\n",
    "\n",
    "    for n_steps in time_steps:\n",
    "\n",
    "        qr = QuantumRegister(num_qubits)\n",
    "        qc = QuantumCircuit(qr)\n",
    "\n",
    "        ###EDIT CODE BELOW\n",
    "        \n",
    "        qc.x([0,4,8])\n",
    "        ###DO NOT EDIT BELOW     \n",
    "\n",
    "        for _ in range(n_steps):\n",
    "            qc.append(disorder_trot_step, [i for i in range(num_qubits)])\n",
    "        \n",
    "        if n_steps!=0:\n",
    "            qc = qc.bind_parameters({t: delta_t})\n",
    "            qc = qc.bind_parameters({deltas[idx]: disorders[idx] for idx in range(num_qubits)})\n",
    "\n",
    "        circuits[W].append(qc)"
   ]
  },
  {
   "cell_type": "markdown",
   "id": "68d6bb10",
   "metadata": {},
   "source": [
    "<div class=\"alert alert-block alert-danger\">\n",
    "    \n",
    "<b>Challenge question 3c</b> \n",
    "\n",
    "Extract the von Neumann entropy of qubit 0 at different evolution time steps for different disorder strengths.\n",
    "    \n",
    "</div>"
   ]
  },
  {
   "cell_type": "markdown",
   "id": "7daa18a2",
   "metadata": {},
   "source": [
    "<div class=\"alert alert-block alert-danger\">\n",
    "    \n",
    "<b>Challenge question 3d</b> \n",
    "\n",
    "Extract the imbalance of the lattice at different evolution time steps for different disorder strengths.\n",
    "    \n",
    "</div>"
   ]
  },
  {
   "cell_type": "code",
   "execution_count": null,
   "id": "ba1ac736",
   "metadata": {
    "scrolled": true
   },
   "outputs": [
    {
     "data": {
      "application/vnd.jupyter.widget-view+json": {
       "model_id": "e2032443e3d84e27a469323c344828e4",
       "version_major": 2,
       "version_minor": 0
      },
      "text/plain": [
       "  0%|          | 0/3 [00:00<?, ?it/s]"
      ]
     },
     "metadata": {},
     "output_type": "display_data"
    }
   ],
   "source": [
    "from qiskit import transpile\n",
    "\n",
    "# Use Aer's statevector simulator\n",
    "from qiskit import Aer\n",
    "\n",
    "# Run the quantum circuit on a statevector simulator backend\n",
    "backend_sim = Aer.get_backend('statevector_simulator')\n",
    "\n",
    "probability_densities={}\n",
    "state_vector_imbalances={}\n",
    "vn_entropies={}\n",
    "\n",
    "for W in tqdm(Ws):\n",
    "    probability_densities[W]=[]\n",
    "    state_vector_imbalances[W]=[]\n",
    "    vn_entropies[W]=[]\n",
    "    \n",
    "    for circ in circuits[W]:\n",
    "\n",
    "        transpiled_circ=transpile(circ, backend_sim, optimization_level=3)\n",
    "\n",
    "        job_sim = backend_sim.run(transpiled_circ)\n",
    "\n",
    "        # Grab the results from the job.\n",
    "        result_sim = job_sim.result()\n",
    "        outputstate = result_sim.get_statevector(transpiled_circ, decimals=6)\n",
    "        ps=[]\n",
    "        for idx in range(num_qubits):\n",
    "            ps.append(np.abs(qi.partial_trace(outputstate,[i for i in range(num_qubits) if i!=idx]))[1,1]**2)\n",
    "        \n",
    "        entropy=0\n",
    "        ### EDIT CODE BELOW (extract the density matrix of qubit 0 by tracing out all other qubits)\n",
    "     \n",
    "        \n",
    "        rho0= qi.partial_trace(outputstate,[1,2,3,4,5,6,7,8,9,10,11]) # We trace out qubit 0\n",
    "        entropy=qi.entropy(rho0, base=np.exp(1))\n",
    "\n",
    "\n",
    "\n",
    "        ###DO NOT EDIT BELOW \n",
    "        \n",
    "        imbalance=0\n",
    "        ### EDIT CODE BELOW \n",
    "        \n",
    "       \n",
    "        imbalance=get_imbalance(outputstate)\n",
    "        ###DO NOT EDIT BELOW\n",
    "        \n",
    "        \n",
    "        vn_entropies[W].append(entropy)\n",
    "        probability_densities[W].append(ps)\n",
    "        state_vector_imbalances[W].append(imbalance)"
   ]
  },
  {
   "cell_type": "code",
   "execution_count": null,
   "id": "3b728147",
   "metadata": {
    "scrolled": true
   },
   "outputs": [],
   "source": [
    "fig, axs = plt.subplots(1,3,figsize=(15,5), facecolor='white', sharey=True)\n",
    "\n",
    "for i,W in enumerate(Ws):\n",
    "    ax=axs[i]\n",
    "    ax.pcolormesh(np.arange(0,num_qubits,1), time_steps*delta_t ,probability_densities[W])\n",
    "    ax.set_xlabel('Qubit index')\n",
    "    ax.set_xticks(np.arange(1,num_qubits+1,1))\n",
    "\n",
    "axs[0].set_ylabel('Time (1/J)')\n",
    "\n",
    "plt.show()"
   ]
  },
  {
   "cell_type": "code",
   "execution_count": null,
   "id": "cff7aa4e",
   "metadata": {},
   "outputs": [],
   "source": [
    "for W in Ws:\n",
    "    plt.plot(time_steps*delta_t,vn_entropies[W], '--o', label='W={:d}'.format(W))\n",
    "\n",
    "plt.xlabel(r'Time (1/J)')\n",
    "plt.ylabel(r'$\\mathcal{S}_{\\rm vn}(\\rho_0)$')\n",
    "plt.legend()\n",
    "plt.show()"
   ]
  },
  {
   "cell_type": "code",
   "execution_count": null,
   "id": "c98610e8",
   "metadata": {},
   "outputs": [],
   "source": [
    "## Grade and submit your solution\n",
    "from qc_grader.challenges.spring_2022 import grade_ex3b\n",
    "\n",
    "grade_ex3b(vn_entropies)\n"
   ]
  },
  {
   "cell_type": "code",
   "execution_count": null,
   "id": "9ed1e6a0",
   "metadata": {},
   "outputs": [],
   "source": [
    "for W in Ws:\n",
    "    plt.plot(time_steps*delta_t,state_vector_imbalances[W], '--o', label='W={:d}'.format(W))\n",
    "\n",
    "plt.xlabel(r'Time (1/J)')\n",
    "plt.ylabel(r'$\\mathcal{I}$')\n",
    "plt.legend()\n",
    "plt.show()"
   ]
  },
  {
   "cell_type": "code",
   "execution_count": null,
   "id": "a141777d",
   "metadata": {},
   "outputs": [],
   "source": [
    "## Grade and submit your solution\n",
    "from qc_grader.challenges.spring_2022 import grade_ex3c\n",
    "\n",
    "grade_ex3c(state_vector_imbalances)\n"
   ]
  },
  {
   "cell_type": "code",
   "execution_count": null,
   "id": "60a15186-5d5d-465e-9169-51c463b2a95c",
   "metadata": {},
   "outputs": [],
   "source": [
    "np.range(0,11)"
   ]
  },
  {
   "cell_type": "code",
   "execution_count": null,
   "id": "c7850d7c-85a8-4d85-aea9-cd04b01f0967",
   "metadata": {},
   "outputs": [],
   "source": [
    "np.range(11)"
   ]
  },
  {
   "cell_type": "code",
   "execution_count": null,
   "id": "622b4e5f-113b-4f26-a606-012e366c2a5e",
   "metadata": {},
   "outputs": [],
   "source": []
  }
 ],
 "metadata": {
  "kernelspec": {
   "display_name": "Qiskit v0.35.0 (ipykernel)",
   "language": "python",
   "name": "python3"
  },
  "language_info": {
   "codemirror_mode": {
    "name": "ipython",
    "version": 3
   },
   "file_extension": ".py",
   "mimetype": "text/x-python",
   "name": "python",
   "nbconvert_exporter": "python",
   "pygments_lexer": "ipython3",
   "version": "3.8.13"
  },
  "widgets": {
   "application/vnd.jupyter.widget-state+json": {
    "state": {
     "00a4561144614bc79c376b7a4896e793": {
      "model_module": "@jupyter-widgets/base",
      "model_module_version": "1.2.0",
      "model_name": "LayoutModel",
      "state": {
       "width": "190px"
      }
     },
     "00e465e396f04a2598456aa2a2b71e9f": {
      "model_module": "@jupyter-widgets/controls",
      "model_module_version": "1.5.0",
      "model_name": "HTMLModel",
      "state": {
       "layout": "IPY_MODEL_d8af6e508e674de6bc221652abc5dfb1",
       "style": "IPY_MODEL_a3af4f35a6bd41ca9312e34faa870075",
       "value": "  0%"
      }
     },
     "0148ff506fd741008141531e367e79cb": {
      "model_module": "@jupyter-widgets/controls",
      "model_module_version": "1.5.0",
      "model_name": "ProgressStyleModel",
      "state": {
       "description_width": ""
      }
     },
     "03bccf65fb744d49b416fd33cdb0238b": {
      "model_module": "@jupyter-widgets/controls",
      "model_module_version": "1.5.0",
      "model_name": "HTMLModel",
      "state": {
       "layout": "IPY_MODEL_3bb4a41614d6412b913810c47d2cff21",
       "style": "IPY_MODEL_74d90775c63143ec9641de3858285f05",
       "value": "100%"
      }
     },
     "090c4afc608b40179a5721b40748a208": {
      "model_module": "@jupyter-widgets/controls",
      "model_module_version": "1.5.0",
      "model_name": "DescriptionStyleModel",
      "state": {
       "description_width": ""
      }
     },
     "094dfb4ff7b945439476f5a506071de4": {
      "model_module": "@jupyter-widgets/controls",
      "model_module_version": "1.5.0",
      "model_name": "ProgressStyleModel",
      "state": {
       "description_width": ""
      }
     },
     "0b18308b48bb4a949c831d88d200c0c1": {
      "model_module": "@jupyter-widgets/controls",
      "model_module_version": "1.5.0",
      "model_name": "HTMLModel",
      "state": {
       "layout": "IPY_MODEL_80056c083bf44672b393bbe195b8e1fc",
       "style": "IPY_MODEL_3b52114ab87e4803aaf9c03845e086ca",
       "value": " 0/3 [00:00&lt;?, ?it/s]"
      }
     },
     "133fe182c6a04a5599392dac3e11d95c": {
      "model_module": "@jupyter-widgets/controls",
      "model_module_version": "1.5.0",
      "model_name": "ProgressStyleModel",
      "state": {
       "description_width": ""
      }
     },
     "14b134aa755349ff91cd3e441f0ae72b": {
      "model_module": "@jupyter-widgets/base",
      "model_module_version": "1.2.0",
      "model_name": "LayoutModel",
      "state": {}
     },
     "174babda9ab94c7fa718bb7fe80cd61e": {
      "model_module": "@jupyter-widgets/controls",
      "model_module_version": "1.5.0",
      "model_name": "DescriptionStyleModel",
      "state": {
       "description_width": ""
      }
     },
     "177271150e55408899c4e06cf4247002": {
      "model_module": "@jupyter-widgets/controls",
      "model_module_version": "1.5.0",
      "model_name": "ButtonModel",
      "state": {
       "button_style": "primary",
       "description": "Clear",
       "layout": "IPY_MODEL_2af95f46e1fa4bb6b6bc919bcfa56f55",
       "style": "IPY_MODEL_5ca277d7c54244368bd6c66b507404ba"
      }
     },
     "29e03707899344df833a3153226f8568": {
      "model_module": "@jupyter-widgets/base",
      "model_module_version": "1.2.0",
      "model_name": "LayoutModel",
      "state": {}
     },
     "2af95f46e1fa4bb6b6bc919bcfa56f55": {
      "model_module": "@jupyter-widgets/base",
      "model_module_version": "1.2.0",
      "model_name": "LayoutModel",
      "state": {
       "grid_area": "right",
       "padding": "0px 0px 0px 0px",
       "width": "70px"
      }
     },
     "323da9247a534126bbf4577f67e5a87b": {
      "model_module": "@jupyter-widgets/base",
      "model_module_version": "1.2.0",
      "model_name": "LayoutModel",
      "state": {
       "width": "145px"
      }
     },
     "3435959300024802a364395ea8428e6d": {
      "model_module": "@jupyter-widgets/base",
      "model_module_version": "1.2.0",
      "model_name": "LayoutModel",
      "state": {}
     },
     "36b79634610f4a1f9547a41dc5a641d2": {
      "model_module": "@jupyter-widgets/base",
      "model_module_version": "1.2.0",
      "model_name": "LayoutModel",
      "state": {}
     },
     "3b52114ab87e4803aaf9c03845e086ca": {
      "model_module": "@jupyter-widgets/controls",
      "model_module_version": "1.5.0",
      "model_name": "DescriptionStyleModel",
      "state": {
       "description_width": ""
      }
     },
     "3bb4a41614d6412b913810c47d2cff21": {
      "model_module": "@jupyter-widgets/base",
      "model_module_version": "1.2.0",
      "model_name": "LayoutModel",
      "state": {}
     },
     "46e6361a39df4b0f830bcf3667f77c07": {
      "model_module": "@jupyter-widgets/base",
      "model_module_version": "1.2.0",
      "model_name": "LayoutModel",
      "state": {}
     },
     "534bbc3badb9420ab05a956a88264435": {
      "model_module": "@jupyter-widgets/controls",
      "model_module_version": "1.5.0",
      "model_name": "HBoxModel",
      "state": {
       "children": [
        "IPY_MODEL_00e465e396f04a2598456aa2a2b71e9f",
        "IPY_MODEL_f02c7258e652474ea3072def67338a89",
        "IPY_MODEL_0b18308b48bb4a949c831d88d200c0c1"
       ],
       "layout": "IPY_MODEL_d71001366b4a4a249066e4872a23fc78"
      }
     },
     "58555b1bb18740bc9aca4f1c4f98efc2": {
      "model_module": "@jupyter-widgets/controls",
      "model_module_version": "1.5.0",
      "model_name": "DescriptionStyleModel",
      "state": {
       "description_width": ""
      }
     },
     "5ca277d7c54244368bd6c66b507404ba": {
      "model_module": "@jupyter-widgets/controls",
      "model_module_version": "1.5.0",
      "model_name": "ButtonStyleModel",
      "state": {}
     },
     "613ae8a9c1d94252b93089374c187724": {
      "model_module": "@jupyter-widgets/controls",
      "model_module_version": "1.5.0",
      "model_name": "GridBoxModel",
      "state": {
       "children": [
        "IPY_MODEL_177271150e55408899c4e06cf4247002"
       ],
       "layout": "IPY_MODEL_f560a217781e483097d67cb47914ca9c"
      }
     },
     "64f84d9745d2439cbd277b7fb4b734da": {
      "model_module": "@jupyter-widgets/controls",
      "model_module_version": "1.5.0",
      "model_name": "HTMLModel",
      "state": {
       "layout": "IPY_MODEL_d108455ea2d44c4b8e9e3ef9b86afd73",
       "style": "IPY_MODEL_7a29bab804274be5a81f7a21be2601a4",
       "value": "  0%"
      }
     },
     "74d90775c63143ec9641de3858285f05": {
      "model_module": "@jupyter-widgets/controls",
      "model_module_version": "1.5.0",
      "model_name": "DescriptionStyleModel",
      "state": {
       "description_width": ""
      }
     },
     "76d7af0036f447ee98244b5796d0d3ab": {
      "model_module": "@jupyter-widgets/controls",
      "model_module_version": "1.5.0",
      "model_name": "DescriptionStyleModel",
      "state": {
       "description_width": ""
      }
     },
     "7a29bab804274be5a81f7a21be2601a4": {
      "model_module": "@jupyter-widgets/controls",
      "model_module_version": "1.5.0",
      "model_name": "DescriptionStyleModel",
      "state": {
       "description_width": ""
      }
     },
     "7ae89dd846774f1eac748e8dd55245fe": {
      "model_module": "@jupyter-widgets/base",
      "model_module_version": "1.2.0",
      "model_name": "LayoutModel",
      "state": {
       "margin": "0px 0px 10px 0px"
      }
     },
     "7fc24f30d8b04bd5975738937e8cf3ef": {
      "model_module": "@jupyter-widgets/base",
      "model_module_version": "1.2.0",
      "model_name": "LayoutModel",
      "state": {}
     },
     "80056c083bf44672b393bbe195b8e1fc": {
      "model_module": "@jupyter-widgets/base",
      "model_module_version": "1.2.0",
      "model_name": "LayoutModel",
      "state": {}
     },
     "8153407b339c47ef8c00f94d371caac4": {
      "model_module": "@jupyter-widgets/controls",
      "model_module_version": "1.5.0",
      "model_name": "HTMLModel",
      "state": {
       "layout": "IPY_MODEL_323da9247a534126bbf4577f67e5a87b",
       "style": "IPY_MODEL_76d7af0036f447ee98244b5796d0d3ab",
       "value": "<h5>Backend</h5>"
      }
     },
     "84b9d759731a40998ac0160fc983034b": {
      "model_module": "@jupyter-widgets/controls",
      "model_module_version": "1.5.0",
      "model_name": "HTMLModel",
      "state": {
       "layout": "IPY_MODEL_ac7bd312c4bc4c9eaa31002949111855",
       "style": "IPY_MODEL_89dad29d99704b38a06f1e9501a0d6ca",
       "value": "<h5>Message</h5>"
      }
     },
     "84c74de672e24c709efa99a96f42d644": {
      "model_module": "@jupyter-widgets/controls",
      "model_module_version": "1.5.0",
      "model_name": "DescriptionStyleModel",
      "state": {
       "description_width": ""
      }
     },
     "854176f6134048379ba04e0ff5a7c33f": {
      "model_module": "@jupyter-widgets/base",
      "model_module_version": "1.2.0",
      "model_name": "LayoutModel",
      "state": {}
     },
     "89dad29d99704b38a06f1e9501a0d6ca": {
      "model_module": "@jupyter-widgets/controls",
      "model_module_version": "1.5.0",
      "model_name": "DescriptionStyleModel",
      "state": {
       "description_width": ""
      }
     },
     "8ab5d9110fb84258bb2eb7f8123fb10f": {
      "model_module": "@jupyter-widgets/base",
      "model_module_version": "1.2.0",
      "model_name": "LayoutModel",
      "state": {}
     },
     "8dd0a19754744b2898ca51f1084089ae": {
      "model_module": "@jupyter-widgets/controls",
      "model_module_version": "1.5.0",
      "model_name": "ProgressStyleModel",
      "state": {
       "description_width": ""
      }
     },
     "a3af4f35a6bd41ca9312e34faa870075": {
      "model_module": "@jupyter-widgets/controls",
      "model_module_version": "1.5.0",
      "model_name": "DescriptionStyleModel",
      "state": {
       "description_width": ""
      }
     },
     "a61f47b9b9514a898922718da927583f": {
      "model_module": "@jupyter-widgets/controls",
      "model_module_version": "1.5.0",
      "model_name": "HTMLModel",
      "state": {
       "layout": "IPY_MODEL_7fc24f30d8b04bd5975738937e8cf3ef",
       "style": "IPY_MODEL_84c74de672e24c709efa99a96f42d644",
       "value": " 1/3 [01:11&lt;02:22, 71.26s/it]"
      }
     },
     "a79845487cd44bdfa636e6d3f8876162": {
      "model_module": "@jupyter-widgets/controls",
      "model_module_version": "1.5.0",
      "model_name": "DescriptionStyleModel",
      "state": {
       "description_width": ""
      }
     },
     "a8874dcc8d9e4ca6955f49eb4d200ec3": {
      "model_module": "@jupyter-widgets/base",
      "model_module_version": "1.2.0",
      "model_name": "LayoutModel",
      "state": {}
     },
     "a9e3ceabc002454cabceeb444c5d0aa9": {
      "model_module": "@jupyter-widgets/base",
      "model_module_version": "1.2.0",
      "model_name": "LayoutModel",
      "state": {}
     },
     "abb702b138994f5e9010cff238cebce8": {
      "model_module": "@jupyter-widgets/controls",
      "model_module_version": "1.5.0",
      "model_name": "HBoxModel",
      "state": {
       "children": [
        "IPY_MODEL_03bccf65fb744d49b416fd33cdb0238b",
        "IPY_MODEL_f432dec6a91649ccbba0bd46833e4f24",
        "IPY_MODEL_b68628eb6f064bd5bfa3d46a92af16f5"
       ],
       "layout": "IPY_MODEL_8ab5d9110fb84258bb2eb7f8123fb10f"
      }
     },
     "ac7bd312c4bc4c9eaa31002949111855": {
      "model_module": "@jupyter-widgets/base",
      "model_module_version": "1.2.0",
      "model_name": "LayoutModel",
      "state": {}
     },
     "af27f88a9ccb460cbb87b35ec88d3b16": {
      "model_module": "@jupyter-widgets/controls",
      "model_module_version": "1.5.0",
      "model_name": "HBoxModel",
      "state": {
       "children": [
        "IPY_MODEL_64f84d9745d2439cbd277b7fb4b734da",
        "IPY_MODEL_c38da9e79af64dd39be7fdfced3e40a3",
        "IPY_MODEL_c69e5ecc1a674cadb16064a9d781029a"
       ],
       "layout": "IPY_MODEL_46e6361a39df4b0f830bcf3667f77c07"
      }
     },
     "b68628eb6f064bd5bfa3d46a92af16f5": {
      "model_module": "@jupyter-widgets/controls",
      "model_module_version": "1.5.0",
      "model_name": "HTMLModel",
      "state": {
       "layout": "IPY_MODEL_854176f6134048379ba04e0ff5a7c33f",
       "style": "IPY_MODEL_58555b1bb18740bc9aca4f1c4f98efc2",
       "value": " 3/3 [03:47&lt;00:00, 75.41s/it]"
      }
     },
     "b726398969fb40368cb67415bb17b8ee": {
      "model_module": "@jupyter-widgets/base",
      "model_module_version": "1.2.0",
      "model_name": "LayoutModel",
      "state": {
       "width": "95px"
      }
     },
     "bbc7488584474348945f8422296fb717": {
      "model_module": "@jupyter-widgets/controls",
      "model_module_version": "1.5.0",
      "model_name": "HTMLModel",
      "state": {
       "layout": "IPY_MODEL_7ae89dd846774f1eac748e8dd55245fe",
       "style": "IPY_MODEL_cd814a7f290f4ba0b5fe80bdbb4c68bc",
       "value": "<p style='font-family: IBM Plex Sans, Arial, Helvetica, sans-serif; font-size: 20px; font-weight: medium;'>Circuit Properties</p>"
      }
     },
     "bf935de040764ba4bedce9d99d0ac24e": {
      "model_module": "@jupyter-widgets/base",
      "model_module_version": "1.2.0",
      "model_name": "LayoutModel",
      "state": {
       "margin": "0px 0px 0px 37px",
       "width": "600px"
      }
     },
     "c38da9e79af64dd39be7fdfced3e40a3": {
      "model_module": "@jupyter-widgets/controls",
      "model_module_version": "1.5.0",
      "model_name": "FloatProgressModel",
      "state": {
       "bar_style": "danger",
       "layout": "IPY_MODEL_14b134aa755349ff91cd3e441f0ae72b",
       "max": 3,
       "style": "IPY_MODEL_8dd0a19754744b2898ca51f1084089ae"
      }
     },
     "c69e5ecc1a674cadb16064a9d781029a": {
      "model_module": "@jupyter-widgets/controls",
      "model_module_version": "1.5.0",
      "model_name": "HTMLModel",
      "state": {
       "layout": "IPY_MODEL_a8874dcc8d9e4ca6955f49eb4d200ec3",
       "style": "IPY_MODEL_a79845487cd44bdfa636e6d3f8876162",
       "value": " 0/3 [00:00&lt;?, ?it/s]"
      }
     },
     "ca6bba0943e5408790d13ee9ca1e73dd": {
      "model_module": "@jupyter-widgets/controls",
      "model_module_version": "1.5.0",
      "model_name": "FloatProgressModel",
      "state": {
       "layout": "IPY_MODEL_29e03707899344df833a3153226f8568",
       "max": 3,
       "style": "IPY_MODEL_133fe182c6a04a5599392dac3e11d95c",
       "value": 1
      }
     },
     "cd814a7f290f4ba0b5fe80bdbb4c68bc": {
      "model_module": "@jupyter-widgets/controls",
      "model_module_version": "1.5.0",
      "model_name": "DescriptionStyleModel",
      "state": {
       "description_width": ""
      }
     },
     "d108455ea2d44c4b8e9e3ef9b86afd73": {
      "model_module": "@jupyter-widgets/base",
      "model_module_version": "1.2.0",
      "model_name": "LayoutModel",
      "state": {}
     },
     "d1d9e49d2fe949a089eeacfabc75fd47": {
      "model_module": "@jupyter-widgets/base",
      "model_module_version": "1.2.0",
      "model_name": "LayoutModel",
      "state": {
       "width": "70px"
      }
     },
     "d5a9737638a94332979873f4bd64067b": {
      "model_module": "@jupyter-widgets/base",
      "model_module_version": "1.2.0",
      "model_name": "LayoutModel",
      "state": {}
     },
     "d71001366b4a4a249066e4872a23fc78": {
      "model_module": "@jupyter-widgets/base",
      "model_module_version": "1.2.0",
      "model_name": "LayoutModel",
      "state": {}
     },
     "d8af6e508e674de6bc221652abc5dfb1": {
      "model_module": "@jupyter-widgets/base",
      "model_module_version": "1.2.0",
      "model_name": "LayoutModel",
      "state": {}
     },
     "d9c8970c086347debd6e654109e59d89": {
      "model_module": "@jupyter-widgets/controls",
      "model_module_version": "1.5.0",
      "model_name": "DescriptionStyleModel",
      "state": {
       "description_width": ""
      }
     },
     "dabd5175f8ef4553b1af7a6701198aae": {
      "model_module": "@jupyter-widgets/controls",
      "model_module_version": "1.5.0",
      "model_name": "HTMLModel",
      "state": {
       "layout": "IPY_MODEL_d1d9e49d2fe949a089eeacfabc75fd47",
       "style": "IPY_MODEL_ede5226b516b44af8a83e4885cee2976",
       "value": "<h5>Queue</h5>"
      }
     },
     "e2032443e3d84e27a469323c344828e4": {
      "model_module": "@jupyter-widgets/controls",
      "model_module_version": "1.5.0",
      "model_name": "HBoxModel",
      "state": {
       "children": [
        "IPY_MODEL_e2b3457008e14df5a266a6b40cb6dee5",
        "IPY_MODEL_ca6bba0943e5408790d13ee9ca1e73dd",
        "IPY_MODEL_a61f47b9b9514a898922718da927583f"
       ],
       "layout": "IPY_MODEL_3435959300024802a364395ea8428e6d"
      }
     },
     "e2b3457008e14df5a266a6b40cb6dee5": {
      "model_module": "@jupyter-widgets/controls",
      "model_module_version": "1.5.0",
      "model_name": "HTMLModel",
      "state": {
       "layout": "IPY_MODEL_36b79634610f4a1f9547a41dc5a641d2",
       "style": "IPY_MODEL_d9c8970c086347debd6e654109e59d89",
       "value": " 33%"
      }
     },
     "e8a0129c678541ce835dc9b722dfc504": {
      "model_module": "@jupyter-widgets/controls",
      "model_module_version": "1.5.0",
      "model_name": "HTMLModel",
      "state": {
       "layout": "IPY_MODEL_00a4561144614bc79c376b7a4896e793",
       "style": "IPY_MODEL_090c4afc608b40179a5721b40748a208",
       "value": "<h5>Job ID</h5>"
      }
     },
     "ede5226b516b44af8a83e4885cee2976": {
      "model_module": "@jupyter-widgets/controls",
      "model_module_version": "1.5.0",
      "model_name": "DescriptionStyleModel",
      "state": {
       "description_width": ""
      }
     },
     "f02c7258e652474ea3072def67338a89": {
      "model_module": "@jupyter-widgets/controls",
      "model_module_version": "1.5.0",
      "model_name": "FloatProgressModel",
      "state": {
       "bar_style": "danger",
       "layout": "IPY_MODEL_d5a9737638a94332979873f4bd64067b",
       "max": 3,
       "style": "IPY_MODEL_094dfb4ff7b945439476f5a506071de4"
      }
     },
     "f432dec6a91649ccbba0bd46833e4f24": {
      "model_module": "@jupyter-widgets/controls",
      "model_module_version": "1.5.0",
      "model_name": "FloatProgressModel",
      "state": {
       "bar_style": "success",
       "layout": "IPY_MODEL_a9e3ceabc002454cabceeb444c5d0aa9",
       "max": 3,
       "style": "IPY_MODEL_0148ff506fd741008141531e367e79cb",
       "value": 3
      }
     },
     "f560a217781e483097d67cb47914ca9c": {
      "model_module": "@jupyter-widgets/base",
      "model_module_version": "1.2.0",
      "model_name": "LayoutModel",
      "state": {
       "grid_template_areas": "\n                                       \". . . . right \"\n                                        ",
       "grid_template_columns": "20% 20% 20% 20% 20%",
       "width": "100%"
      }
     },
     "f6bd55843dd84fbeb22ca324f319eed3": {
      "model_module": "@jupyter-widgets/controls",
      "model_module_version": "1.5.0",
      "model_name": "HBoxModel",
      "state": {
       "children": [
        "IPY_MODEL_e8a0129c678541ce835dc9b722dfc504",
        "IPY_MODEL_8153407b339c47ef8c00f94d371caac4",
        "IPY_MODEL_ff9c08c8335548cbbde4e304481bba43",
        "IPY_MODEL_dabd5175f8ef4553b1af7a6701198aae",
        "IPY_MODEL_84b9d759731a40998ac0160fc983034b"
       ],
       "layout": "IPY_MODEL_bf935de040764ba4bedce9d99d0ac24e"
      }
     },
     "ff9c08c8335548cbbde4e304481bba43": {
      "model_module": "@jupyter-widgets/controls",
      "model_module_version": "1.5.0",
      "model_name": "HTMLModel",
      "state": {
       "layout": "IPY_MODEL_b726398969fb40368cb67415bb17b8ee",
       "style": "IPY_MODEL_174babda9ab94c7fa718bb7fe80cd61e",
       "value": "<h5>Status</h5>"
      }
     }
    },
    "version_major": 2,
    "version_minor": 0
   }
  }
 },
 "nbformat": 4,
 "nbformat_minor": 5
}
